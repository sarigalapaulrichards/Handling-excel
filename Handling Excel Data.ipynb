{
 "cells": [
  {
   "cell_type": "code",
   "execution_count": 3,
   "id": "4628787c-eec4-4f82-8393-a21ce25d7e92",
   "metadata": {},
   "outputs": [],
   "source": [
    "import pandas as pd"
   ]
  },
  {
   "cell_type": "markdown",
   "id": "669dee73-2f1a-4560-910b-2b37439841dc",
   "metadata": {},
   "source": [
    "#### Reading Excel Files"
   ]
  },
  {
   "cell_type": "code",
   "execution_count": 35,
   "id": "96d0e1b8-f7e2-4490-b72a-6470e5408f45",
   "metadata": {},
   "outputs": [
    {
     "data": {
      "text/plain": [
       "['Employee Info', 'Employee Salary', 'Employee Projects']"
      ]
     },
     "execution_count": 35,
     "metadata": {},
     "output_type": "execute_result"
    }
   ],
   "source": [
    "excel_file = pd.ExcelFile(r\"C:\\Users\\91912\\pandas datasets\\employees.xlsx\")        # \n",
    "excel_file.sheet_names"
   ]
  },
  {
   "cell_type": "markdown",
   "id": "5ad7a6e6-2833-4167-af6e-4cb1e73eca6b",
   "metadata": {},
   "source": [
    "#### Reading Particular Sheets"
   ]
  },
  {
   "cell_type": "code",
   "execution_count": 39,
   "id": "c88f8b4f-c892-4f92-bb59-19c1289b9a07",
   "metadata": {},
   "outputs": [
    {
     "data": {
      "text/html": [
       "<div>\n",
       "<style scoped>\n",
       "    .dataframe tbody tr th:only-of-type {\n",
       "        vertical-align: middle;\n",
       "    }\n",
       "\n",
       "    .dataframe tbody tr th {\n",
       "        vertical-align: top;\n",
       "    }\n",
       "\n",
       "    .dataframe thead th {\n",
       "        text-align: right;\n",
       "    }\n",
       "</style>\n",
       "<table border=\"1\" class=\"dataframe\">\n",
       "  <thead>\n",
       "    <tr style=\"text-align: right;\">\n",
       "      <th></th>\n",
       "      <th>ID</th>\n",
       "      <th>Name</th>\n",
       "      <th>Department</th>\n",
       "    </tr>\n",
       "  </thead>\n",
       "  <tbody>\n",
       "    <tr>\n",
       "      <th>0</th>\n",
       "      <td>101</td>\n",
       "      <td>John Doe</td>\n",
       "      <td>HR</td>\n",
       "    </tr>\n",
       "    <tr>\n",
       "      <th>1</th>\n",
       "      <td>102</td>\n",
       "      <td>Jane Smith</td>\n",
       "      <td>Engineering</td>\n",
       "    </tr>\n",
       "    <tr>\n",
       "      <th>2</th>\n",
       "      <td>103</td>\n",
       "      <td>Emily Davis</td>\n",
       "      <td>Sales</td>\n",
       "    </tr>\n",
       "    <tr>\n",
       "      <th>3</th>\n",
       "      <td>104</td>\n",
       "      <td>Michael Brown</td>\n",
       "      <td>Marketing</td>\n",
       "    </tr>\n",
       "  </tbody>\n",
       "</table>\n",
       "</div>"
      ],
      "text/plain": [
       "    ID           Name   Department\n",
       "0  101       John Doe           HR\n",
       "1  102     Jane Smith  Engineering\n",
       "2  103    Emily Davis        Sales\n",
       "3  104  Michael Brown    Marketing"
      ]
     },
     "execution_count": 39,
     "metadata": {},
     "output_type": "execute_result"
    }
   ],
   "source": [
    "df_excel1 = pd.read_excel(r\"C:\\Users\\91912\\pandas datasets\\employees.xlsx\",sheet_name = 0)   # here accessing sheets using sheet index\n",
    "df_excel1"
   ]
  },
  {
   "cell_type": "markdown",
   "id": "5b02fc8e-bdf9-439f-9f44-2365b50746eb",
   "metadata": {},
   "source": [
    "#### Reading Multiple Sheets"
   ]
  },
  {
   "cell_type": "code",
   "execution_count": 5,
   "id": "cf947e03-20d5-474b-8ee4-3ce664a14b36",
   "metadata": {},
   "outputs": [],
   "source": [
    "df = pd.read_excel(r\"C:\\Users\\91912\\OneDrive\\Documents\\Book1.xlsx\",sheet_name = [0,1],)\n",
    "# Gives a dictionary with keys as sheet_name and values as dataframes"
   ]
  },
  {
   "cell_type": "code",
   "execution_count": 7,
   "id": "32f844b2-2327-4db6-b971-9e0ee86a507f",
   "metadata": {},
   "outputs": [
    {
     "data": {
      "text/plain": [
       "{0:   Name  age\n",
       " 0   p1   21\n",
       " 1   p2   20\n",
       " 2   p3   22\n",
       " 3   p4   24,\n",
       " 1:    math  english\n",
       " 0    32       30\n",
       " 1    32       30\n",
       " 2    32       30\n",
       " 3    32       30}"
      ]
     },
     "execution_count": 7,
     "metadata": {},
     "output_type": "execute_result"
    }
   ],
   "source": [
    "df"
   ]
  },
  {
   "cell_type": "code",
   "execution_count": 9,
   "id": "0062a45f-7e2e-42b8-b92e-7eabc0067e63",
   "metadata": {},
   "outputs": [
    {
     "data": {
      "text/html": [
       "<div>\n",
       "<style scoped>\n",
       "    .dataframe tbody tr th:only-of-type {\n",
       "        vertical-align: middle;\n",
       "    }\n",
       "\n",
       "    .dataframe tbody tr th {\n",
       "        vertical-align: top;\n",
       "    }\n",
       "\n",
       "    .dataframe thead th {\n",
       "        text-align: right;\n",
       "    }\n",
       "</style>\n",
       "<table border=\"1\" class=\"dataframe\">\n",
       "  <thead>\n",
       "    <tr style=\"text-align: right;\">\n",
       "      <th></th>\n",
       "      <th>Name</th>\n",
       "      <th>age</th>\n",
       "    </tr>\n",
       "  </thead>\n",
       "  <tbody>\n",
       "    <tr>\n",
       "      <th>0</th>\n",
       "      <td>p1</td>\n",
       "      <td>21</td>\n",
       "    </tr>\n",
       "    <tr>\n",
       "      <th>1</th>\n",
       "      <td>p2</td>\n",
       "      <td>20</td>\n",
       "    </tr>\n",
       "    <tr>\n",
       "      <th>2</th>\n",
       "      <td>p3</td>\n",
       "      <td>22</td>\n",
       "    </tr>\n",
       "    <tr>\n",
       "      <th>3</th>\n",
       "      <td>p4</td>\n",
       "      <td>24</td>\n",
       "    </tr>\n",
       "  </tbody>\n",
       "</table>\n",
       "</div>"
      ],
      "text/plain": [
       "  Name  age\n",
       "0   p1   21\n",
       "1   p2   20\n",
       "2   p3   22\n",
       "3   p4   24"
      ]
     },
     "execution_count": 9,
     "metadata": {},
     "output_type": "execute_result"
    }
   ],
   "source": [
    "df[0]"
   ]
  },
  {
   "cell_type": "code",
   "execution_count": 11,
   "id": "e30313cf-5a9c-45c7-a48b-fa0b221e3526",
   "metadata": {},
   "outputs": [
    {
     "data": {
      "text/html": [
       "<div>\n",
       "<style scoped>\n",
       "    .dataframe tbody tr th:only-of-type {\n",
       "        vertical-align: middle;\n",
       "    }\n",
       "\n",
       "    .dataframe tbody tr th {\n",
       "        vertical-align: top;\n",
       "    }\n",
       "\n",
       "    .dataframe thead th {\n",
       "        text-align: right;\n",
       "    }\n",
       "</style>\n",
       "<table border=\"1\" class=\"dataframe\">\n",
       "  <thead>\n",
       "    <tr style=\"text-align: right;\">\n",
       "      <th></th>\n",
       "      <th>math</th>\n",
       "      <th>english</th>\n",
       "    </tr>\n",
       "  </thead>\n",
       "  <tbody>\n",
       "    <tr>\n",
       "      <th>0</th>\n",
       "      <td>32</td>\n",
       "      <td>30</td>\n",
       "    </tr>\n",
       "    <tr>\n",
       "      <th>1</th>\n",
       "      <td>32</td>\n",
       "      <td>30</td>\n",
       "    </tr>\n",
       "    <tr>\n",
       "      <th>2</th>\n",
       "      <td>32</td>\n",
       "      <td>30</td>\n",
       "    </tr>\n",
       "    <tr>\n",
       "      <th>3</th>\n",
       "      <td>32</td>\n",
       "      <td>30</td>\n",
       "    </tr>\n",
       "  </tbody>\n",
       "</table>\n",
       "</div>"
      ],
      "text/plain": [
       "   math  english\n",
       "0    32       30\n",
       "1    32       30\n",
       "2    32       30\n",
       "3    32       30"
      ]
     },
     "execution_count": 11,
     "metadata": {},
     "output_type": "execute_result"
    }
   ],
   "source": [
    "df[1]"
   ]
  },
  {
   "cell_type": "markdown",
   "id": "09a00225-0ba8-4431-af5c-0e4650b6ea8f",
   "metadata": {},
   "source": [
    "#### Writing Data to Excel Files"
   ]
  },
  {
   "cell_type": "code",
   "execution_count": 13,
   "id": "b11b579f-4fc8-4c64-b408-709fe7b98840",
   "metadata": {},
   "outputs": [],
   "source": [
    "# with to_excel we can covert single dataframe to excel sheet at a time"
   ]
  },
  {
   "cell_type": "code",
   "execution_count": 15,
   "id": "aace2ceb-c836-48ae-b283-b40f0b21b15a",
   "metadata": {},
   "outputs": [],
   "source": [
    "with pd.ExcelWriter(r\"C:\\Users\\91912\\OneDrive\\Documents\\Book2.xlsx\") as f:\n",
    "    df[0].to_excel(f,sheet_name = \"Student_info\")\n",
    "    df[1].to_excel(f,sheet_name = \"sem_1\")"
   ]
  },
  {
   "cell_type": "code",
   "execution_count": null,
   "id": "0f435cbf-5671-4a90-89cb-d19ceeaf2a67",
   "metadata": {},
   "outputs": [],
   "source": []
  }
 ],
 "metadata": {
  "kernelspec": {
   "display_name": "Python 3 (ipykernel)",
   "language": "python",
   "name": "python3"
  },
  "language_info": {
   "codemirror_mode": {
    "name": "ipython",
    "version": 3
   },
   "file_extension": ".py",
   "mimetype": "text/x-python",
   "name": "python",
   "nbconvert_exporter": "python",
   "pygments_lexer": "ipython3",
   "version": "3.12.4"
  }
 },
 "nbformat": 4,
 "nbformat_minor": 5
}
